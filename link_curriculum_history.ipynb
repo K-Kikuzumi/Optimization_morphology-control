{
 "cells": [
  {
   "cell_type": "code",
   "execution_count": 56,
   "metadata": {},
   "outputs": [],
   "source": [
    "import json\n",
    "import os"
   ]
  },
  {
   "cell_type": "code",
   "execution_count": 57,
   "metadata": {},
   "outputs": [],
   "source": [
    "def link(first_half, second_half, output_dir):\n",
    "    with open(os.path.join(\"log\", first_half, \"history.json\"), \"r\") as f:\n",
    "        history_first = json.load(f)\n",
    "    with open(os.path.join(\"log\", second_half, \"history.json\"), \"r\") as f:\n",
    "        history_second = json.load(f)\n",
    "\n",
    "    curriculum_history = []\n",
    "\n",
    "\n",
    "    for i in history_first:\n",
    "        info = {}\n",
    "        info[\"generation\"] = i[\"generation\"]\n",
    "        info[\"best_reward\"] = i[\"best_reward\"]\n",
    "        info[\"best_generation\"] = i[\"best_generation\"]\n",
    "        info[\"elapsed\"] = i[\"elapsed\"]\n",
    "        info[\"current_best_eval_reward\"] = i[\"current_best_eval_reward\"]\n",
    "        info[\"current_best_reward\"] = i[\"current_best_reward\"]\n",
    "        info[ \"current_mean_reward\"] = i[ \"current_mean_reward\"]\n",
    "        info[\"current_min_reward\"] = i[\"current_min_reward\"]\n",
    "        info[\"current_best_species_id\"] = i[\"current_best_species_id\"]\n",
    "        info[ \"current_best_individual_id\"] = i[ \"current_best_individual_id\"]\n",
    "        info[\"num_limbs\"] = i[\"num_limbs\"]\n",
    "        info[\"structure_codes\"] = i[\"structure_codes\"]\n",
    "        info[\"current_eval_rewards\"] = i[\"current_eval_rewards\"]\n",
    "        info[\"current_mean_rewards\"] = i[\"current_mean_rewards\"]\n",
    "        info[\"current_rewards\"] = i[\"current_rewards\"]\n",
    "        info[\"success_rate\"] = i[\"success_rate\"]\n",
    "        curriculum_history.append(info)\n",
    "\n",
    "    generation_in_first_half = curriculum_history[-1][\"generation\"]\n",
    "    elapsed_in_first_half = curriculum_history[-1][\"elapsed\"]\n",
    "\n",
    "    for i in history_second:\n",
    "        info = {}\n",
    "        info[\"generation\"] = i[\"generation\"] + generation_in_first_half\n",
    "        info[\"best_reward\"] = i[\"best_reward\"]\n",
    "        info[\"best_generation\"] = i[\"best_generation\"]\n",
    "        info[\"elapsed\"] = i[\"elapsed\"] + elapsed_in_first_half\n",
    "        info[\"current_best_eval_reward\"] = i[\"current_best_eval_reward\"]\n",
    "        info[\"current_best_reward\"] = i[\"current_best_reward\"]\n",
    "        info[ \"current_mean_reward\"] = i[ \"current_mean_reward\"]\n",
    "        info[\"current_min_reward\"] = i[\"current_min_reward\"]\n",
    "        info[\"current_best_species_id\"] = i[\"current_best_species_id\"]\n",
    "        info[ \"current_best_individual_id\"] = i[ \"current_best_individual_id\"]\n",
    "        info[\"num_limbs\"] = i[\"num_limbs\"]\n",
    "        info[\"structure_codes\"] = i[\"structure_codes\"]\n",
    "        info[\"current_eval_rewards\"] = i[\"current_eval_rewards\"]\n",
    "        info[\"current_mean_rewards\"] = i[\"current_mean_rewards\"]\n",
    "        info[\"current_rewards\"] = i[\"current_rewards\"]\n",
    "        info[\"success_rate\"] = i[\"success_rate\"]\n",
    "        curriculum_history.append(info)\n",
    "\n",
    "    os.makedirs(os.path.join(\"log\", output_dir), exist_ok=True)\n",
    "    with open(os.path.join(\"log\", output_dir, \"history.json\"), 'w') as f:\n",
    "         json.dump(curriculum_history, f, indent=4)\n",
    "\n",
    "    origin = {\"first\" : first_half, \"second\" : second_half}\n",
    "    with open(os.path.join(\"log\", output_dir, \"origin.json\"), 'w') as f:\n",
    "        json.dump(origin, f, indent=4)\n",
    "\n",
    "\n",
    "        "
   ]
  },
  {
   "cell_type": "code",
   "execution_count": 58,
   "metadata": {},
   "outputs": [],
   "source": [
    "first_half = \"test_curriculum_no_locked_failure_1\"\n",
    "second_half = \"test_curriculum_no_locked_failure_1_second_half\"\n",
    "output_dir = \"curriculum_locked_failure_1\"\n",
    "link(first_half, second_half, output_dir)"
   ]
  },
  {
   "cell_type": "code",
   "execution_count": null,
   "metadata": {},
   "outputs": [],
   "source": []
  }
 ],
 "metadata": {
  "kernelspec": {
   "display_name": "rkstudy",
   "language": "python",
   "name": "python3"
  },
  "language_info": {
   "codemirror_mode": {
    "name": "ipython",
    "version": 3
   },
   "file_extension": ".py",
   "mimetype": "text/x-python",
   "name": "python",
   "nbconvert_exporter": "python",
   "pygments_lexer": "ipython3",
   "version": "3.8.5"
  },
  "orig_nbformat": 4,
  "vscode": {
   "interpreter": {
    "hash": "deb0bf4dfb8123daff9d6c638c9f535499a6300634f69f7e4336f618d443a7e8"
   }
  }
 },
 "nbformat": 4,
 "nbformat_minor": 2
}
